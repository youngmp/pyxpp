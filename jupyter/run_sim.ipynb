{
 "cells": [
  {
   "cell_type": "markdown",
   "id": "9e7b387a-1051-4589-9aa9-0cee71c5276b",
   "metadata": {},
   "source": [
    "See call_so.ipynb for information on compiling."
   ]
  },
  {
   "cell_type": "code",
   "execution_count": 24,
   "id": "e3394e61-f613-4cda-b274-275b0fd5f8db",
   "metadata": {},
   "outputs": [
    {
     "name": "stdout",
     "output_type": "stream",
     "text": [
      "The wurlitzer extension is already loaded. To reload it, use:\n",
      "  %reload_ext wurlitzer\n"
     ]
    }
   ],
   "source": [
    "# needed for C stdout\n",
    "%load_ext wurlitzer"
   ]
  },
  {
   "cell_type": "code",
   "execution_count": 25,
   "id": "14bbc012-e383-426a-89d9-3d3e6edcc535",
   "metadata": {},
   "outputs": [],
   "source": [
    "import ctypes as ct\n",
    "import os\n",
    "import numpy as np\n",
    "import matplotlib.pyplot as plt"
   ]
  },
  {
   "cell_type": "code",
   "execution_count": 26,
   "id": "15fded63-ab32-4b42-aff9-9b65a3bec562",
   "metadata": {},
   "outputs": [],
   "source": [
    "# load xpp api compiled with libX11.so\n",
    "xppa = ct.cdll.LoadLibrary('../xpp_source/libxppAPI.so')"
   ]
  },
  {
   "cell_type": "code",
   "execution_count": 27,
   "id": "dc6156cc-0018-434b-bb61-3e3ac162d8fa",
   "metadata": {},
   "outputs": [],
   "source": [
    "# figure out how to initialize input array in python to pass into c\n",
    "arr = (ct.c_char_p*3)()\n",
    "home = os.path.expanduser(\"~\")\n",
    "arr[0] = (home+'/Dropbox/xpp-py/xpp_source/xppaut').encode('utf-8')\n",
    "arr[1] = (home+'/Dropbox/xpp-py/xpp_source/ode/lecar.ode').encode('utf-8')\n",
    "arr[2] = '-silent'.encode('utf-8')"
   ]
  },
  {
   "cell_type": "code",
   "execution_count": 28,
   "id": "0aaa1582-8362-409d-aad7-edc610fd0396",
   "metadata": {},
   "outputs": [
    {
     "name": "stdout",
     "output_type": "stream",
     "text": [
      "argv[0] = /home/youngmp/Dropbox/xpp-py/xpp_source/xppaut\n",
      "argv[1] = /home/youngmp/Dropbox/xpp-py/xpp_source/ode/lecar.ode\n",
      "argv[2] = -silent\n",
      "myfile=lecar.ode\n",
      "batchout=output.dat\n",
      "PlotFormat=ps\n",
      "text=                Channnels for the ML Eqns   \n",
      "text= The ML eqns have three channels Calcium, potassium and leak.    \n",
      "text= To set parameters click on the asterisks   \n",
      "text=*  We first set the integration time to 100 and increase the current   \n",
      "action=$ total=100 iapp=.1  \n",
      "text= Integrate the equations and see the nice limit cycle. Draw the nullclines.   \n",
      "text=*  Now we block potassium. Integrate again and look at what happens   \n",
      "action=$ gk=0  \n",
      "text= Draw the nullclines. Where is the V nullcline?   \n",
      "text=*  Now we block both currents and integrate   \n",
      "action=$ gk=0 gca=0  \n",
      "text=*  Now calcium is blocked. Explore this   \n",
      "action=$ gk=2 gca=0  \n",
      "text=*  Back to normal.  Both currents are required for oscillations!   \n",
      "action=$ gk=2 gca=1.33  \n",
      "text=*   What happens with no leak???    \n",
      "action=$ gl=0  \n",
      "Parameters:\n",
      "|iapp|=0.000000 |phi|=0.333000 \n",
      "Parameters:\n",
      "|v1|=-0.010000 |v2|=0.150000 |v3|=0.100000 |v4|=0.145000 |gca|=1.000000 \n",
      "Parameters:\n",
      "|vk|=-0.700000 |vl|=-0.500000 |gk|=2.000000 |gl|=0.500000 |om|=1.000000 \n",
      " Added user fun MINF \n",
      " Added user fun NINF \n",
      " Added user fun LAMN \n",
      "ICA = GCA*MINF(V)*(V-1)   \n",
      "CUR = iapp   \n",
      "ICA = ica   \n",
      "IK = gk*w*(v-vk)   \n",
      "RATE = phi   \n",
      " added vvst doing $ xplot=t yplot=v xlo=0 xhi=100 ylo=-.6 yhi=.5 total=100 iapp=.1 \n",
      " added pp doing $ xp=v yp=w xlo=-.6.xhi=1.2 ylo=-.25 yhi=1.2 \n",
      " added snic doing $ v3=.1 v4=.145 gca=1 phi=.333 \n",
      " added hopf doing $ v3=0 v4=.3 gca=1.1 phi=.2 \n",
      " added hom doing $ v3=.1 v4=.145 gca=1 phi=1.15 \n",
      " added cool doing $ v3=.1 v4=.145 gca=1 phi=1.15 iapp=.080918 \n",
      "MINF(V)=.5*(1+TANH((V-V1)/V2))  \n",
      "NINF(V)=.5*(1+TANH((V-V3)/V4))  \n",
      "LAMN(V)= PHI*COSH((V-V3)/(2*V4))  \n",
      "ICA=GCA*MINF(V)*(V-1)  \n",
      "0:dV/dt=  (IAPP+GL*(VL-V)+GK*W*(VK-V)-ICA)  \n",
      "1:dW/dt= (LAMN(V)*(NINF(V)-W))  \n",
      "cur=iapp  \n",
      "ica=ica  \n",
      "ik=gk*w*(v-vk)  \n",
      "rate=phi  \n",
      " All formulas are valid!!\n",
      " nvar=2 naux=4 nfix=1 nmark=0 NEQ=6 NODE=7 \n",
      "ICA is a duplicate name\n",
      "Used 18 constants and 126 symbols \n",
      "XPPAUT 8.0 Copyright (C) 2002-now  Bard Ermentrout \n"
     ]
    },
    {
     "data": {
      "text/plain": [
       "0"
      ]
     },
     "execution_count": 28,
     "metadata": {},
     "output_type": "execute_result"
    },
    {
     "name": "stdout",
     "output_type": "stream",
     "text": [
      "Version should be below here?\n",
      "Version should be above here?\n"
     ]
    }
   ],
   "source": [
    "xppa.do_main_py(3,arr)"
   ]
  },
  {
   "cell_type": "code",
   "execution_count": 29,
   "id": "e6b4eef7-d08d-4515-ad0e-6e9104ebb305",
   "metadata": {},
   "outputs": [],
   "source": [
    "# The helper function \"ndpointer\" can declare the expected type\n",
    "# and either number of dimensions expected or the shape of the\n",
    "# numpy array.  ctypes will then require that array and type check\n",
    "# the parameter. \n",
    "xppa.integrate_once_py.argtypes = np.ctypeslib.ndpointer(dtype=ct.c_float,ndim=1),\n",
    "xppa.integrate_once_py.restype = None\n",
    "\n",
    "#x_spots = np.arange(-1, 2, 1, dtype=ct.c_float)\n",
    "#dll.func(x_spots, len(x_spots))"
   ]
  },
  {
   "cell_type": "code",
   "execution_count": 30,
   "id": "c55325ac-2886-4b1a-8d2e-854a2b31f56f",
   "metadata": {},
   "outputs": [],
   "source": [
    "xppa.integrate_once_py(np.array([.01,-1],dtype=ct.c_float))"
   ]
  },
  {
   "cell_type": "code",
   "execution_count": 32,
   "id": "9a447f39-0d5c-4d43-84fe-0cd70e529538",
   "metadata": {},
   "outputs": [],
   "source": [
    "maxrow = xppa.get_maxrow_browser()\n",
    "maxcol = xppa.get_maxcol_browser()\n",
    "\n",
    "data_all = np.zeros((maxrow,maxcol))\n",
    "for i in range(maxcol):\n",
    "    col_dat_addr = xppa.get_data_col(i)\n",
    "    data_all[:,i] = list(ct.cast(col_dat_addr,ct.POINTER(ct.c_float*maxrow)).contents)"
   ]
  },
  {
   "cell_type": "code",
   "execution_count": 33,
   "id": "ad17da1f-5a6d-47ec-b9cd-3eba14f23add",
   "metadata": {},
   "outputs": [
    {
     "data": {
      "image/png": "[encoded data removed]",
      "text/plain": [
       "<Figure size 640x480 with 1 Axes>"
      ]
     },
     "metadata": {},
     "output_type": "display_data"
    }
   ],
   "source": [
    "fig,axs = plt.subplots(1,1)\n",
    "axs.plot(data_all[:,0],data_all[:,1])\n",
    "axs.plot(data_all[:,0],data_all[:,2])\n",
    "plt.show()"
   ]
  },
  {
   "cell_type": "code",
   "execution_count": null,
   "id": "66f6bd65-2273-4ea4-9819-2af11f6f5f3b",
   "metadata": {},
   "outputs": [],
   "source": []
  }
 ],
 "metadata": {
  "kernelspec": {
   "display_name": "Python 3",
   "language": "python",
   "name": "python3"
  },
  "language_info": {
   "codemirror_mode": {
    "name": "ipython",
    "version": 3
   },
   "file_extension": ".py",
   "mimetype": "text/x-python",
   "name": "python",
   "nbconvert_exporter": "python",
   "pygments_lexer": "ipython3",
   "version": "3.8.10"
  }
 },
 "nbformat": 4,
 "nbformat_minor": 5
}
