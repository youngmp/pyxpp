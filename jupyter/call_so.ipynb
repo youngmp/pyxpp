{
 "cells": [
  {
   "cell_type": "markdown",
   "id": "9e7b387a-1051-4589-9aa9-0cee71c5276b",
   "metadata": {},
   "source": [
    "Prior to running the below, note that one must first compile XPP with the provided makefile (but change the X11 library location to -L/usr/include/X11 for DFLAGS and -I/usr/include/X11 for CFLAGS). Then libxppAPI.so is created by running the command\n",
    "\n",
    "```gcc-9 -shared -o libxppAPI.so abort.o  cabs.o  delay_handle.o graf_par.o my_ps.o  simplenet.o      adj2.o  calc.o  dense.o  graphics.o my_rhs.o spgmr.o    aniparse.o choice_box.o derived.o histogram.o my_svg.o stiff.o       array_print.o color.o  diagram.o i_dnnt.o nullcline.o storage.o         arrayplot.o comline.o dialog_box.o i_nint.o numerics.o tabular.o        autevd.o conpar2.o do_fit.o init_conds.o odesol2.o torus.o           autlib1.o cv2.o  dormpri.o integrate.o parserslow2.o txtread.o          autlib2.o cvband.o edit_rhs.o iterativ.o pop_list.o userbut.o           autlib3.o cvdense.o eig_list.o kinescope.o pow_dd.o vector.o         autlib4.o cvdiag.o eispack.o llnlmath.o pow_di.o volterra2.o    autlib5.o cvode.o  extra.o  load_eqn.o pow_ii.o worker2.o       auto_nox.o cvspgmr.o fftn.o  lunch-new.o pp_shoot.o z_abs.o     auto_x11.o d_imag.o flags.o  main.o  r_lg10.o z_exp.o        autpp.o  d_lg10.o form_ode.o many_pops.o read_dir.o z_log.o     axes2.o  d_sign.o gear.o  markov.o rubber.o     band.o  dae_fun.o ggets.o  menu.o  scrngif.o    browse.o del_stab.o gogoauto.o menudrive.o setubv2.o /usr/lib/x86_64-linux-gnu/libX11.so```"
   ]
  },
  {
   "cell_type": "code",
   "execution_count": 1,
   "id": "14d49669-4174-4a54-a1d6-4727d2d0f68f",
   "metadata": {},
   "outputs": [],
   "source": [
    "# needed for C stdout\n",
    "%load_ext wurlitzer"
   ]
  },
  {
   "cell_type": "code",
   "execution_count": 2,
   "id": "14bbc012-e383-426a-89d9-3d3e6edcc535",
   "metadata": {},
   "outputs": [],
   "source": [
    "import ctypes as ct\n",
    "import os\n",
    "import numpy as np\n",
    "import matplotlib.pyplot as plt"
   ]
  },
  {
   "cell_type": "code",
   "execution_count": 3,
   "id": "15fded63-ab32-4b42-aff9-9b65a3bec562",
   "metadata": {},
   "outputs": [],
   "source": [
    "# load xpp api compiled with libX11.so\n",
    "xppa = ct.cdll.LoadLibrary('../xpp_source/libxppAPI.so')"
   ]
  },
  {
   "cell_type": "code",
   "execution_count": 4,
   "id": "dc6156cc-0018-434b-bb61-3e3ac162d8fa",
   "metadata": {},
   "outputs": [],
   "source": [
    "# figure out how to initialize input array in python to pass into c\n",
    "arr = (ct.c_char_p*3)()\n",
    "home = os.path.expanduser(\"~\")\n",
    "arr[0] = (home+'/Dropbox/xpp-py/xpp_source/xppaut').encode('utf-8')\n",
    "arr[1] = (home+'/Dropbox/xpp-py/xpp_source/ode/lecar.ode').encode('utf-8')\n",
    "arr[2] = '-silent'.encode('utf-8')"
   ]
  },
  {
   "cell_type": "code",
   "execution_count": 5,
   "id": "57c5c4f9-d6a0-4fb2-bc29-d4ed15f88a3f",
   "metadata": {},
   "outputs": [],
   "source": [
    "# can not access #DEFINE macros in ctypes (try CFFI for this)\n",
    "#print(ct.c_int.in_dll(xppa,\"XORFX\"))"
   ]
  },
  {
   "cell_type": "code",
   "execution_count": 6,
   "id": "0a0e907b-f4fe-4b68-8ba3-9eac84d2798f",
   "metadata": {},
   "outputs": [],
   "source": [
    "class BROWSER(ct.Structure):\n",
    "    _fields_=[(\"dataflag\",ct.c_int),\n",
    "              (\"maxrow\",ct.c_int),\n",
    "              (\"maxcol\",ct.c_int)]"
   ]
  },
  {
   "cell_type": "code",
   "execution_count": 7,
   "id": "a81d0027-3822-4d4f-8d64-b34100995325",
   "metadata": {},
   "outputs": [
    {
     "name": "stdout",
     "output_type": "stream",
     "text": [
      "0\n",
      "0\n"
     ]
    }
   ],
   "source": [
    "for i in range(1,3):\n",
    "    print(xppa.parse_it(arr[i]))\n",
    "#xppa.do_comline(3,arr)"
   ]
  },
  {
   "cell_type": "code",
   "execution_count": 8,
   "id": "9b1d49ef-c502-481d-9ee7-85d431ce65bc",
   "metadata": {},
   "outputs": [
    {
     "data": {
      "text/plain": [
       "2"
      ]
     },
     "execution_count": 8,
     "metadata": {},
     "output_type": "execute_result"
    }
   ],
   "source": [
    "xppa.do_comline(3,arr)"
   ]
  },
  {
   "cell_type": "code",
   "execution_count": 9,
   "id": "115604a2-7c41-4da5-9a9e-b10590cce93e",
   "metadata": {},
   "outputs": [
    {
     "name": "stdout",
     "output_type": "stream",
     "text": [
      "argv[0] = /home/youngmp/Dropbox/xpp-py/xpp_source/xppaut\n",
      "argv[1] = /home/youngmp/Dropbox/xpp-py/xpp_source/ode/lecar.ode\n",
      "argv[2] = -silent\n",
      "myfile=lecar.ode\n",
      "batchout=output.dat\n",
      "PlotFormat=ps\n",
      "text=                Channnels for the ML Eqns   \n",
      "text= The ML eqns have three channels Calcium, potassium and leak.    \n",
      "text= To set parameters click on the asterisks   \n",
      "text=*  We first set the integration time to 100 and increase the current   \n",
      "action=$ total=100 iapp=.1  \n",
      "text= Integrate the equations and see the nice limit cycle. Draw the nullclines.   \n",
      "text=*  Now we block potassium. Integrate again and look at what happens   \n",
      "action=$ gk=0  \n",
      "text= Draw the nullclines. Where is the V nullcline?   \n",
      "text=*  Now we block both currents and integrate   \n",
      "action=$ gk=0 gca=0  \n",
      "text=*  Now calcium is blocked. Explore this   \n",
      "action=$ gk=2 gca=0  \n",
      "text=*  Back to normal.  Both currents are required for oscillations!   \n",
      "action=$ gk=2 gca=1.33  \n",
      "text=*   What happens with no leak???    \n",
      "action=$ gl=0  \n",
      "Parameters:\n",
      "|iapp|=0.000000 |phi|=0.333000 \n",
      "Parameters:\n",
      "|v1|=-0.010000 |v2|=0.150000 |v3|=0.100000 |v4|=0.145000 |gca|=1.000000 \n",
      "Parameters:\n",
      "|vk|=-0.700000 |vl|=-0.500000 |gk|=2.000000 |gl|=0.500000 |om|=1.000000 \n",
      " Added user fun MINF \n",
      " Added user fun NINF \n",
      " Added user fun LAMN \n",
      "ICA = GCA*MINF(V)*(V-1)   \n",
      "CUR = iapp   \n",
      "ICA = ica   \n",
      "IK = gk*w*(v-vk)   \n",
      "RATE = phi   \n",
      " added vvst doing $ xplot=t yplot=v xlo=0 xhi=100 ylo=-.6 yhi=.5 total=100 iapp=.1 \n",
      " added pp doing $ xp=v yp=w xlo=-.6.xhi=1.2 ylo=-.25 yhi=1.2 \n",
      " added snic doing $ v3=.1 v4=.145 gca=1 phi=.333 \n",
      " added hopf doing $ v3=0 v4=.3 gca=1.1 phi=.2 \n",
      " added hom doing $ v3=.1 v4=.145 gca=1 phi=1.15 \n",
      " added cool doing $ v3=.1 v4=.145 gca=1 phi=1.15 iapp=.080918 \n",
      "MINF(V)=.5*(1+TANH((V-V1)/V2))  \n",
      "NINF(V)=.5*(1+TANH((V-V3)/V4))  \n",
      "LAMN(V)= PHI*COSH((V-V3)/(2*V4))  \n",
      "ICA=GCA*MINF(V)*(V-1)  \n",
      "0:dV/dt=  (IAPP+GL*(VL-V)+GK*W*(VK-V)-ICA)  \n",
      "1:dW/dt= (LAMN(V)*(NINF(V)-W))  \n",
      "cur=iapp  \n",
      "ica=ica  \n",
      "ik=gk*w*(v-vk)  \n",
      "rate=phi  \n",
      " All formulas are valid!!\n",
      " nvar=2 naux=4 nfix=1 nmark=0 NEQ=6 NODE=7 \n",
      "ICA is a duplicate name\n",
      "Used 18 constants and 126 symbols \n",
      "XPPAUT 8.0 Copyright (C) 2002-now  Bard Ermentrout \n",
      "Version should be below here?\n",
      "Version should be above here?\n",
      "write_mybrowser_data(fp)2nd write_mybrowser call "
     ]
    },
    {
     "data": {
      "text/plain": [
       "0"
      ]
     },
     "execution_count": 9,
     "metadata": {},
     "output_type": "execute_result"
    },
    {
     "name": "stdout",
     "output_type": "stream",
     "text": [
      " Run complete ... \n"
     ]
    }
   ],
   "source": [
    "xppa.do_main_py(3,arr)"
   ]
  },
  {
   "cell_type": "code",
   "execution_count": 10,
   "id": "3e913c71-0a48-4c96-9f83-b84b962bede6",
   "metadata": {},
   "outputs": [
    {
     "data": {
      "text/plain": [
       "ctypes.c_int"
      ]
     },
     "execution_count": 10,
     "metadata": {},
     "output_type": "execute_result"
    }
   ],
   "source": [
    "xppa.my_browser.restype #get_maxrow_browser()"
   ]
  },
  {
   "cell_type": "code",
   "execution_count": 11,
   "id": "9d40c454-07d4-4d6a-8869-62d69785a5d6",
   "metadata": {},
   "outputs": [],
   "source": [
    "# don't bother loading the entire array.\n",
    "# #maxcol = xppa.\n",
    "# dat_addr2 = xppa.get_browser_data()\n",
    "# dat_addr = ct.cast(dat_addr2,ct.POINTER(ct.c_int))\n",
    "# dat_c = ct.cast(dat_addr,ct.POINTER((ct.c_float*2)*2))\n",
    "# dat = list(dat_c.contents)\n",
    "# print(dat)"
   ]
  },
  {
   "cell_type": "code",
   "execution_count": 12,
   "id": "3586be59-9174-4cc9-9ed0-06f174f2b234",
   "metadata": {},
   "outputs": [],
   "source": [
    "#my_browser = xppa.my_browser\n",
    "\n",
    "#reference = BROWSER()\n",
    "#my_browser.restype = ct.POINTER(BROWSER)\n",
    "\n",
    "#dataP = ctypes.cast(reference.dataP, ctypes.POINTER(DATA_STRUCT))\n",
    "\n",
    "#print(reference.dataflag)"
   ]
  },
  {
   "cell_type": "code",
   "execution_count": 13,
   "id": "9116f055-93b0-4a31-b6f9-3a218f79edb7",
   "metadata": {},
   "outputs": [],
   "source": [
    "maxrow = xppa.get_maxrow_browser()\n",
    "maxcol = xppa.get_maxcol_browser()\n",
    "\n",
    "data_all = np.zeros((maxrow,maxcol))\n",
    "\n",
    "for i in range(maxcol):\n",
    "    col_dat_addr = xppa.get_data_col(i)\n",
    "    data_all[:,i] = list(ct.cast(col_dat_addr,ct.POINTER(ct.c_float*maxrow)).contents)"
   ]
  },
  {
   "cell_type": "code",
   "execution_count": 14,
   "id": "741bfe1e-1c3f-4b92-9884-f827f22ba7a0",
   "metadata": {},
   "outputs": [
    {
     "data": {
      "image/png": "[encoded data removed]",
      "text/plain": [
       "<Figure size 640x480 with 1 Axes>"
      ]
     },
     "metadata": {},
     "output_type": "display_data"
    }
   ],
   "source": [
    "fig,axs = plt.subplots(1,1)\n",
    "axs.plot(data_all[:,0],data_all[:,1])\n",
    "axs.plot(data_all[:,0],data_all[:,2])\n",
    "plt.show()"
   ]
  },
  {
   "cell_type": "code",
   "execution_count": null,
   "id": "b8bd9f17-9f5a-4aea-b5c6-6d2dc3e98f56",
   "metadata": {},
   "outputs": [],
   "source": [
    "xppa.parse_it(arr[2])\n",
    "#xppa.do_comline(2,arr)"
   ]
  },
  {
   "cell_type": "markdown",
   "id": "88ac2045-cbe8-4f83-bff3-115db9302649",
   "metadata": {
    "jp-MarkdownHeadingCollapsed": true
   },
   "source": [
    "in comline.c:\\\n",
    "```extern OptionsSet notAlreadySet;```\\\n",
    "in storage.c:\\\n",
    "```extern XPPVEC xpv```\\\n",
    "```extern int NODE,NMarkov```\n",
    "\n",
    "The above take the format\\\n",
    "```extern data_type variable_name;```\\\n",
    "So notAlreadySet is a variable name that has the data type OptionsSet. I don't know what this data type is.\n",
    "\n",
    "Also see [here](https://www.geeksforgeeks.org/understanding-extern-keyword-in-c/#)"
   ]
  },
  {
   "cell_type": "code",
   "execution_count": 10,
   "id": "2a6e672b-6f1e-4ed1-a1b0-b21ca271eb1b",
   "metadata": {},
   "outputs": [
    {
     "data": {
      "text/plain": [
       "1"
      ]
     },
     "execution_count": 10,
     "metadata": {},
     "output_type": "execute_result"
    }
   ],
   "source": [
    "xppa.get_directory(arr[0])"
   ]
  },
  {
   "cell_type": "code",
   "execution_count": null,
   "id": "0aaa1582-8362-409d-aad7-edc610fd0396",
   "metadata": {},
   "outputs": [],
   "source": [
    "xppa.do_main(2,arr)"
   ]
  },
  {
   "cell_type": "code",
   "execution_count": null,
   "id": "8eb47d40-59fb-4152-96e7-f77aef821f40",
   "metadata": {},
   "outputs": [],
   "source": []
  },
  {
   "cell_type": "code",
   "execution_count": null,
   "id": "99dee04c-4b14-48eb-9bba-f41f3eb82647",
   "metadata": {},
   "outputs": [],
   "source": []
  },
  {
   "cell_type": "code",
   "execution_count": null,
   "id": "12fbdd93-9f14-4150-825f-eb119bcd4fd7",
   "metadata": {},
   "outputs": [],
   "source": []
  }
 ],
 "metadata": {
  "kernelspec": {
   "display_name": "Python 3",
   "language": "python",
   "name": "python3"
  },
  "language_info": {
   "codemirror_mode": {
    "name": "ipython",
    "version": 3
   },
   "file_extension": ".py",
   "mimetype": "text/x-python",
   "name": "python",
   "nbconvert_exporter": "python",
   "pygments_lexer": "ipython3",
   "version": "3.8.10"
  }
 },
 "nbformat": 4,
 "nbformat_minor": 5
}
