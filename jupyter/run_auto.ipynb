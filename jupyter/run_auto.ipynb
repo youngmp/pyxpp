{
 "cells": [
  {
   "cell_type": "markdown",
   "id": "9e7b387a-1051-4589-9aa9-0cee71c5276b",
   "metadata": {},
   "source": [
    "See call_so.ipynb for information on compiling."
   ]
  },
  {
   "cell_type": "code",
   "execution_count": 22,
   "id": "e3394e61-f613-4cda-b274-275b0fd5f8db",
   "metadata": {},
   "outputs": [
    {
     "name": "stdout",
     "output_type": "stream",
     "text": [
      "The wurlitzer extension is already loaded. To reload it, use:\n",
      "  %reload_ext wurlitzer\n"
     ]
    }
   ],
   "source": [
    "# needed for C stdout\n",
    "%load_ext wurlitzer\n",
    "\n",
    "import ctypes as ct\n",
    "import os\n",
    "import numpy as np\n",
    "import matplotlib.pyplot as plt\n",
    "import pandas as pd;import os"
   ]
  },
  {
   "cell_type": "code",
   "execution_count": 2,
   "id": "15fded63-ab32-4b42-aff9-9b65a3bec562",
   "metadata": {},
   "outputs": [],
   "source": [
    "# load xpp api compiled with libX11.so\n",
    "xppa = ct.cdll.LoadLibrary('../xpp_source/libxppAPI.so')\n",
    "\n",
    "# figure out how to initialize input array in python to pass into c\n",
    "arr = (ct.c_char_p*3)()\n",
    "home = os.path.expanduser(\"~\")\n",
    "arr[0] = (home+'/Dropbox/xpp-py/xpp_source/xppaut').encode('utf-8')\n",
    "arr[1] = (home+'/Dropbox/xpp-py/xpp_source/ode/lecar.ode').encode('utf-8')\n",
    "arr[2] = '-silent'.encode('utf-8')"
   ]
  },
  {
   "cell_type": "code",
   "execution_count": 42,
   "id": "43a17963-0d02-4c8c-8f98-4e9712ab8c61",
   "metadata": {},
   "outputs": [],
   "source": [
    "def get_auto_output():\n",
    "    # get AUTO output\n",
    "    home = os.path.expanduser('~')\n",
    "    with open(home+'/fort.7') as f:\n",
    "        lines = f.readlines()\n",
    "    lines = lines[12:] # strip headers\n",
    "\n",
    "    data = np.zeros((len(lines),len(lines[0].split())-1))\n",
    "    for j,line in enumerate(lines):\n",
    "        cols = line.split()\n",
    "        floats = [float(i) for i in cols] \n",
    "        data[j,:] = floats[1:] # ignore first col\n",
    "        \n",
    "    return data\n",
    "    \n",
    "#get_auto_output()"
   ]
  },
  {
   "cell_type": "code",
   "execution_count": 3,
   "id": "0aaa1582-8362-409d-aad7-edc610fd0396",
   "metadata": {},
   "outputs": [
    {
     "name": "stdout",
     "output_type": "stream",
     "text": [
      "argv[0] = /home/youngmp/Dropbox/xpp-py/xpp_source/xppaut\n",
      "argv[1] = /home/youngmp/Dropbox/xpp-py/xpp_source/ode/lecar.ode\n",
      "argv[2] = -silent\n",
      "myfile=lecar.ode\n",
      "batchout=output.dat\n",
      "PlotFormat=ps\n",
      "text=                Channnels for the ML Eqns   \n",
      "text= The ML eqns have three channels Calcium, potassium and leak.    \n",
      "text= To set parameters click on the asterisks   \n",
      "text=*  We first set the integration time to 100 and increase the current   \n",
      "action=$ total=100 iapp=.1  \n",
      "text= Integrate the equations and see the nice limit cycle. Draw the nullclines.   \n",
      "text=*  Now we block potassium. Integrate again and look at what happens   \n",
      "action=$ gk=0  \n",
      "text= Draw the nullclines. Where is the V nullcline?   \n",
      "text=*  Now we block both currents and integrate   \n",
      "action=$ gk=0 gca=0  \n",
      "text=*  Now calcium is blocked. Explore this   \n",
      "action=$ gk=2 gca=0  \n",
      "text=*  Back to normal.  Both currents are required for oscillations!   \n",
      "action=$ gk=2 gca=1.33  \n",
      "text=*   What happens with no leak???    \n",
      "action=$ gl=0  \n",
      "Parameters:\n",
      "|iapp|=0.000000 |phi|=0.333000 \n",
      "Parameters:\n",
      "|v1|=-0.010000 |v2|=0.150000 |v3|=0.100000 |v4|=0.145000 |gca|=1.000000 \n",
      "Parameters:\n",
      "|vk|=-0.700000 |vl|=-0.500000 |gk|=2.000000 |gl|=0.500000 |om|=1.000000 \n",
      " Added user fun MINF \n",
      " Added user fun NINF \n",
      " Added user fun LAMN \n",
      "ICA = GCA*MINF(V)*(V-1)   \n",
      "CUR = iapp   \n",
      "ICA = ica   \n",
      "IK = gk*w*(v-vk)   \n",
      "RATE = phi   \n",
      " added vvst doing $ xplot=t yplot=v xlo=0 xhi=100 ylo=-.6 yhi=.5 total=100 iapp=.1 \n",
      " added pp doing $ xp=v yp=w xlo=-.6.xhi=1.2 ylo=-.25 yhi=1.2 \n",
      " added snic doing $ v3=.1 v4=.145 gca=1 phi=.333 \n",
      " added hopf doing $ v3=0 v4=.3 gca=1.1 phi=.2 \n",
      " added hom doing $ v3=.1 v4=.145 gca=1 phi=1.15 \n",
      " added cool doing $ v3=.1 v4=.145 gca=1 phi=1.15 iapp=.080918 \n",
      "MINF(V)=.5*(1+TANH((V-V1)/V2))  \n",
      "NINF(V)=.5*(1+TANH((V-V3)/V4))  \n",
      "LAMN(V)= PHI*COSH((V-V3)/(2*V4))  \n",
      "ICA=GCA*MINF(V)*(V-1)  \n",
      "0:dV/dt=  (IAPP+GL*(VL-V)+GK*W*(VK-V)-ICA)  \n",
      "1:dW/dt= (LAMN(V)*(NINF(V)-W))  \n",
      "cur=iapp  \n",
      "ica=ica  \n",
      "ik=gk*w*(v-vk)  \n",
      "rate=phi  \n",
      " All formulas are valid!!\n",
      " nvar=2 naux=4 nfix=1 nmark=0 NEQ=6 NODE=7 \n",
      "ICA is a duplicate name\n",
      "Used 18 constants and 126 symbols \n",
      "XPPAUT 8.0 Copyright (C) 2002-now  Bard Ermentrout \n",
      "Version should be below here?\n",
      "Version should be above here?\n"
     ]
    },
    {
     "data": {
      "text/plain": [
       "0"
      ]
     },
     "execution_count": 3,
     "metadata": {},
     "output_type": "execute_result"
    }
   ],
   "source": [
    "xppa.do_main_py(3,arr)"
   ]
  },
  {
   "cell_type": "code",
   "execution_count": 4,
   "id": "e6b4eef7-d08d-4515-ad0e-6e9104ebb305",
   "metadata": {},
   "outputs": [],
   "source": [
    "# The helper function \"ndpointer\" can declare the expected type\n",
    "# and either number of dimensions expected or the shape of the\n",
    "# numpy array.  ctypes will then require that array and type check\n",
    "# the parameter. \n",
    "xppa.integrate_once_py.argtypes = np.ctypeslib.ndpointer(dtype=ct.c_float,ndim=1),\n",
    "xppa.integrate_once_py.restype = None\n",
    "\n",
    "xppa.get_ic.argtypes = [ct.c_int,np.ctypeslib.ndpointer(dtype=ct.c_float,ndim=1)]\n",
    "\n",
    "init_c = np.array([.01,-1],dtype=ct.c_float)\n",
    "\n",
    "# run sim\n",
    "xppa.integrate_once_py(init_c)"
   ]
  },
  {
   "cell_type": "code",
   "execution_count": 5,
   "id": "6b7c715c-5e93-406e-b5c1-7a9e5ed1a497",
   "metadata": {},
   "outputs": [],
   "source": [
    "# get data from xpp\n",
    "maxrow = xppa.get_maxrow_browser();maxcol = xppa.get_maxcol_browser()\n",
    "data_all = np.zeros((maxrow,maxcol))\n",
    "for i in range(maxcol):\n",
    "    col_dat_addr = xppa.get_data_col(i)\n",
    "    data_all[:,i] = list(ct.cast(col_dat_addr,ct.POINTER(ct.c_float*maxrow)).contents)"
   ]
  },
  {
   "cell_type": "code",
   "execution_count": 6,
   "id": "5d96420f-02f5-4c7e-a481-99cb1a3fc140",
   "metadata": {},
   "outputs": [],
   "source": [
    "# get last point and run again to update last_ic\n",
    "last = data_all[-1,1:]\n",
    "last = last.astype(np.float32)\n",
    "xppa.integrate_once_py(last)"
   ]
  },
  {
   "cell_type": "code",
   "execution_count": 7,
   "id": "ad17da1f-5a6d-47ec-b9cd-3eba14f23add",
   "metadata": {},
   "outputs": [],
   "source": [
    "## plot if you want to\n",
    "# fig,axs = plt.subplots(1,1)\n",
    "# axs.plot(data_all[:,0],data_all[:,1]);axs.plot(data_all[:,0],data_all[:,2])\n",
    "# plt.show()"
   ]
  },
  {
   "cell_type": "markdown",
   "id": "4529db22-1148-4bb6-9955-afac2050dadd",
   "metadata": {},
   "source": [
    "do_auto_win() (auto_nox.c) calls make_auto(wname,iname) (auto_x11.c), which sets up the auto window."
   ]
  },
  {
   "cell_type": "code",
   "execution_count": 8,
   "id": "a483fc20-1320-4b3c-a0df-ab09c3ca62b2",
   "metadata": {},
   "outputs": [
    {
     "name": "stdout",
     "output_type": "stream",
     "text": [
      "init for auto -0.495617,0.000270382 \n",
      "  BR    PT  TY LAB    PAR(0)        L2-NORM         U(1)          U(2)     \n",
      "   1     1  EP   1  0.000000E+00  4.956169E-01 -4.956168E-01  2.703817E-04\n",
      "   1    14  LP   2  8.325657E-02  2.450622E-01 -2.449143E-01  8.514462E-03\n",
      "   1    29  LP   3 -2.072714E-02  1.406626E-01 -3.369752E-02  1.365667E-01\n",
      "   1    48  HB   4  2.038448E-01  4.025181E-01  6.953479E-02  3.964665E-01\n"
     ]
    },
    {
     "data": {
      "text/plain": [
       "1"
      ]
     },
     "execution_count": 8,
     "metadata": {},
     "output_type": "execute_result"
    },
    {
     "name": "stdout",
     "output_type": "stream",
     "text": [
      "   1    66  EP   5  5.105744E-01  5.896349E-01  1.224442E-01  5.767814E-01\n"
     ]
    }
   ],
   "source": [
    "xppa.auto_run_py() # in auto_nox.c"
   ]
  },
  {
   "cell_type": "code",
   "execution_count": 46,
   "id": "17b76be5-7acf-4d71-9786-9054dcc0af1e",
   "metadata": {},
   "outputs": [
    {
     "data": {
      "image/png": "[encoded data removed]",
      "text/plain": [
       "<Figure size 640x480 with 1 Axes>"
      ]
     },
     "metadata": {},
     "output_type": "display_data"
    }
   ],
   "source": [
    "# plot\n",
    "data = get_auto_output()\n",
    "fig,axs = plt.subplots(1,1)\n",
    "axs.plot(data[:,3],data[:,5])\n",
    "plt.show();plt.close()"
   ]
  },
  {
   "cell_type": "code",
   "execution_count": null,
   "id": "811c39fc-6e63-4b9e-aa1c-1f5ec9ae0bb6",
   "metadata": {},
   "outputs": [],
   "source": []
  }
 ],
 "metadata": {
  "kernelspec": {
   "display_name": "Python 3",
   "language": "python",
   "name": "python3"
  },
  "language_info": {
   "codemirror_mode": {
    "name": "ipython",
    "version": 3
   },
   "file_extension": ".py",
   "mimetype": "text/x-python",
   "name": "python",
   "nbconvert_exporter": "python",
   "pygments_lexer": "ipython3",
   "version": "3.8.10"
  }
 },
 "nbformat": 4,
 "nbformat_minor": 5
}
